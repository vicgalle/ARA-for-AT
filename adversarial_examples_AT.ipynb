{
 "cells": [
  {
   "cell_type": "code",
   "execution_count": 1,
   "metadata": {},
   "outputs": [],
   "source": [
    "import torch\n",
    "import torch.nn as nn\n",
    "import torch.nn.functional as F\n",
    "import torch.optim as optim\n",
    "from torchvision import datasets, transforms\n",
    "import matplotlib.pyplot as plt\n",
    "\n",
    "from models import MLP\n",
    "from optimizers import sgdm, fgsmm\n",
    "from utils_train import get_data_loaders, train, train_at, train_alp, train_atpx, train_ara, train_arapx, test\n",
    "\n",
    "import numpy as np\n",
    "\n",
    "%matplotlib inline\n",
    "import matplotlib.pyplot as plt"
   ]
  },
  {
   "cell_type": "code",
   "execution_count": 2,
   "metadata": {},
   "outputs": [],
   "source": [
    "seed = 0 # Set the random seed, so the experiment is reproducible\n",
    "torch.manual_seed(seed)\n",
    "use_cuda = True\n",
    "device = torch.device(\"cuda\" if use_cuda else \"cpu\")\n",
    "batch_size = 32 # We use a batch size of 32 examples while training, and 1000 while testing\n",
    "test_batch_size = 1000\n",
    "momentum = 0.5 # We will use SGD with a momentum term\n",
    "lr = 0.01 # The learning rate\n",
    "epochs = 5 # The number of epochs\n",
    "im_size = 28*28 # The size of the input. MNIST are greyscale images, 28x28 pixels each"
   ]
  },
  {
   "cell_type": "code",
   "execution_count": 3,
   "metadata": {},
   "outputs": [],
   "source": [
    "train_loader, test_loader = get_data_loaders(batch_size, test_batch_size)"
   ]
  },
  {
   "cell_type": "code",
   "execution_count": 4,
   "metadata": {},
   "outputs": [],
   "source": [
    "model = MLP(im_size).to(device)\n",
    "optimizer = optim.SGD(model.parameters(), lr=lr,\n",
    "                      momentum=momentum)"
   ]
  },
  {
   "cell_type": "code",
   "execution_count": 5,
   "metadata": {},
   "outputs": [],
   "source": [
    "train = False\n",
    "if train:\n",
    "    training_losses = []\n",
    "    for epoch in range(1, epochs + 1):\n",
    "        train(model, device, train_loader, optimizer, epoch, training_losses)\n",
    "        test(model, device, test_loader)"
   ]
  },
  {
   "cell_type": "code",
   "execution_count": 6,
   "metadata": {},
   "outputs": [],
   "source": [
    "#torch.save(model.state_dict(), 'mlp.bin')"
   ]
  },
  {
   "cell_type": "code",
   "execution_count": 12,
   "metadata": {},
   "outputs": [
    {
     "data": {
      "text/plain": [
       "<All keys matched successfully>"
      ]
     },
     "execution_count": 12,
     "metadata": {},
     "output_type": "execute_result"
    }
   ],
   "source": [
    "model = MLP(im_size).to(device)\n",
    "model.load_state_dict(torch.load('mlp.bin'))"
   ]
  },
  {
   "cell_type": "markdown",
   "metadata": {},
   "source": [
    "## Training with AT"
   ]
  },
  {
   "cell_type": "code",
   "execution_count": 8,
   "metadata": {},
   "outputs": [],
   "source": [
    "model_at = MLP(im_size).to(device)\n",
    "optimizer = optim.SGD(model_at.parameters(), lr=lr, momentum=momentum)"
   ]
  },
  {
   "cell_type": "code",
   "execution_count": 9,
   "metadata": {},
   "outputs": [
    {
     "name": "stderr",
     "output_type": "stream",
     "text": [
      "/home/victor/sandbox/sgmcmc4ara/models.py:20: UserWarning: Implicit dimension choice for log_softmax has been deprecated. Change the call to include dim=X as an argument.\n",
      "  return F.log_softmax(x)\n"
     ]
    },
    {
     "name": "stdout",
     "output_type": "stream",
     "text": [
      "Train Epoch: 1 [0/60000 (0%)]\tLoss: 2.586755\n",
      "Train Epoch: 1 [32000/60000 (53%)]\tLoss: 0.395875\n",
      "Train Epoch: 2 [0/60000 (0%)]\tLoss: 0.392236\n",
      "Train Epoch: 2 [32000/60000 (53%)]\tLoss: 0.080673\n",
      "Train Epoch: 3 [0/60000 (0%)]\tLoss: 0.329648\n",
      "Train Epoch: 3 [32000/60000 (53%)]\tLoss: 0.131830\n",
      "Train Epoch: 4 [0/60000 (0%)]\tLoss: 0.223070\n",
      "Train Epoch: 4 [32000/60000 (53%)]\tLoss: 0.082781\n",
      "Train Epoch: 5 [0/60000 (0%)]\tLoss: 0.209828\n",
      "Train Epoch: 5 [32000/60000 (53%)]\tLoss: 0.264490\n",
      "\n",
      "Test set: Average loss: 0.1031, Accuracy: 9676/10000 (97%)\n",
      "\n"
     ]
    }
   ],
   "source": [
    "train = True\n",
    "if train:\n",
    "    training_losses = []\n",
    "    for epoch in range(1, epochs + 1):\n",
    "        train_at(model_at, device, train_loader, optimizer, epoch, training_losses)\n",
    "        #test(model, device, test_loader)\n",
    "test(model_at, device, test_loader)"
   ]
  },
  {
   "cell_type": "code",
   "execution_count": 10,
   "metadata": {},
   "outputs": [],
   "source": [
    "torch.save(model_at.state_dict(), 'mlp_at.bin')"
   ]
  },
  {
   "cell_type": "code",
   "execution_count": 11,
   "metadata": {},
   "outputs": [
    {
     "data": {
      "text/plain": [
       "<All keys matched successfully>"
      ]
     },
     "execution_count": 11,
     "metadata": {},
     "output_type": "execute_result"
    }
   ],
   "source": [
    "model_at = MLP(im_size).to(device)\n",
    "model_at.load_state_dict(torch.load('mlp_at.bin'))"
   ]
  },
  {
   "cell_type": "code",
   "execution_count": 4,
   "metadata": {},
   "outputs": [
    {
     "name": "stderr",
     "output_type": "stream",
     "text": [
      "/home/victor/sandbox/sgmcmc4ara/models.py:20: UserWarning: Implicit dimension choice for log_softmax has been deprecated. Change the call to include dim=X as an argument.\n",
      "  return F.log_softmax(x)\n"
     ]
    },
    {
     "name": "stdout",
     "output_type": "stream",
     "text": [
      "Train Epoch: 1 [0/60000 (0%)]\tLoss: 2.505699\n",
      "Train Epoch: 1 [32000/60000 (53%)]\tLoss: 0.821072\n",
      "Train Epoch: 2 [0/60000 (0%)]\tLoss: 0.388468\n",
      "Train Epoch: 2 [32000/60000 (53%)]\tLoss: 0.383399\n",
      "Train Epoch: 3 [0/60000 (0%)]\tLoss: 0.391831\n",
      "Train Epoch: 3 [32000/60000 (53%)]\tLoss: 0.485502\n",
      "Train Epoch: 4 [0/60000 (0%)]\tLoss: 0.360737\n",
      "Train Epoch: 4 [32000/60000 (53%)]\tLoss: 0.351221\n",
      "Train Epoch: 5 [0/60000 (0%)]\tLoss: 0.423970\n",
      "Train Epoch: 5 [32000/60000 (53%)]\tLoss: 0.508609\n",
      "\n",
      "Test set: Average loss: 0.1561, Accuracy: 9568/10000 (96%)\n",
      "\n"
     ]
    },
    {
     "data": {
      "text/plain": [
       "<All keys matched successfully>"
      ]
     },
     "execution_count": 4,
     "metadata": {},
     "output_type": "execute_result"
    }
   ],
   "source": [
    "model_atpx = MLP(im_size).to(device)\n",
    "optimizer = optim.SGD(model_atpx.parameters(), lr=lr, momentum=momentum)\n",
    "\n",
    "train = True\n",
    "if train:\n",
    "    training_losses = []\n",
    "    for epoch in range(1, epochs + 1):\n",
    "        train_atpx(model_atpx, device, train_loader, optimizer, epoch, training_losses)\n",
    "        #test(model, device, test_loader)\n",
    "test(model_atpx, device, test_loader)\n"
   ]
  },
  {
   "cell_type": "code",
   "execution_count": 10,
   "metadata": {},
   "outputs": [
    {
     "data": {
      "text/plain": [
       "<All keys matched successfully>"
      ]
     },
     "execution_count": 10,
     "metadata": {},
     "output_type": "execute_result"
    }
   ],
   "source": [
    "#torch.save(model_atpx.state_dict(), 'mlp_atpx.bin')\n",
    "model_atpx = MLP(im_size).to(device)\n",
    "model_atpx.load_state_dict(torch.load('mlp_atpx.bin'))"
   ]
  },
  {
   "cell_type": "markdown",
   "metadata": {},
   "source": [
    "## Training with ARAAT"
   ]
  },
  {
   "cell_type": "code",
   "execution_count": 13,
   "metadata": {},
   "outputs": [],
   "source": [
    "model_ara = MLP(im_size).to(device)\n",
    "optimizer = optim.SGD(model_ara.parameters(), lr=lr,\n",
    "                      momentum=momentum)"
   ]
  },
  {
   "cell_type": "code",
   "execution_count": 14,
   "metadata": {},
   "outputs": [
    {
     "name": "stdout",
     "output_type": "stream",
     "text": [
      "Train Epoch: 1 [0/60000 (0%)]\tLoss: 2.708365\n",
      "Train Epoch: 1 [32000/60000 (53%)]\tLoss: 1.017482\n",
      "Train Epoch: 2 [0/60000 (0%)]\tLoss: 0.369104\n",
      "Train Epoch: 2 [32000/60000 (53%)]\tLoss: 0.825053\n",
      "Train Epoch: 3 [0/60000 (0%)]\tLoss: 0.496589\n",
      "Train Epoch: 3 [32000/60000 (53%)]\tLoss: 0.706184\n",
      "Train Epoch: 4 [0/60000 (0%)]\tLoss: 0.353049\n",
      "Train Epoch: 4 [32000/60000 (53%)]\tLoss: 1.072289\n",
      "Train Epoch: 5 [0/60000 (0%)]\tLoss: 0.275397\n",
      "Train Epoch: 5 [32000/60000 (53%)]\tLoss: 0.445577\n",
      "\n",
      "Test set: Average loss: 0.1832, Accuracy: 9560/10000 (96%)\n",
      "\n"
     ]
    }
   ],
   "source": [
    "train = True\n",
    "if train:\n",
    "    training_losses = []\n",
    "    for epoch in range(1, epochs + 1):\n",
    "        train_ara(model_ara, device, train_loader, optimizer, epoch, training_losses)\n",
    "        #test(model, device, test_loader)\n",
    "test(model_ara, device, test_loader)"
   ]
  },
  {
   "cell_type": "code",
   "execution_count": 9,
   "metadata": {},
   "outputs": [
    {
     "data": {
      "text/plain": [
       "<All keys matched successfully>"
      ]
     },
     "execution_count": 9,
     "metadata": {},
     "output_type": "execute_result"
    }
   ],
   "source": [
    "#torch.save(model_ara.state_dict(), 'mlp_ara.bin')\n",
    "\n",
    "model_ara = MLP(im_size).to(device)\n",
    "model_ara.load_state_dict(torch.load('mlp_ara.bin'))"
   ]
  },
  {
   "cell_type": "code",
   "execution_count": 5,
   "metadata": {},
   "outputs": [
    {
     "name": "stdout",
     "output_type": "stream",
     "text": [
      "Train Epoch: 1 [0/60000 (0%)]\tLoss: 2.886061\n",
      "Train Epoch: 1 [32000/60000 (53%)]\tLoss: 1.003988\n",
      "Train Epoch: 2 [0/60000 (0%)]\tLoss: 0.471333\n",
      "Train Epoch: 2 [32000/60000 (53%)]\tLoss: 1.076714\n",
      "Train Epoch: 3 [0/60000 (0%)]\tLoss: 0.588362\n",
      "Train Epoch: 3 [32000/60000 (53%)]\tLoss: 0.287972\n",
      "Train Epoch: 4 [0/60000 (0%)]\tLoss: 0.190712\n",
      "Train Epoch: 4 [32000/60000 (53%)]\tLoss: 0.252429\n",
      "Train Epoch: 5 [0/60000 (0%)]\tLoss: 0.516121\n",
      "Train Epoch: 5 [32000/60000 (53%)]\tLoss: 0.469655\n",
      "\n",
      "Test set: Average loss: 0.2067, Accuracy: 9473/10000 (95%)\n",
      "\n"
     ]
    }
   ],
   "source": [
    "model_arapx = MLP(im_size).to(device)\n",
    "optimizer = optim.SGD(model_arapx.parameters(), lr=lr,\n",
    "                      momentum=momentum)\n",
    "\n",
    "train = True\n",
    "if train:\n",
    "    training_losses = []\n",
    "    for epoch in range(1, epochs + 1):\n",
    "        train_arapx(model_arapx, device, train_loader, optimizer, epoch, training_losses)\n",
    "        #test(model, device, test_loader)\n",
    "test(model_arapx, device, test_loader)"
   ]
  },
  {
   "cell_type": "code",
   "execution_count": 8,
   "metadata": {},
   "outputs": [
    {
     "data": {
      "text/plain": [
       "<All keys matched successfully>"
      ]
     },
     "execution_count": 8,
     "metadata": {},
     "output_type": "execute_result"
    }
   ],
   "source": [
    "#torch.save(model_arapx.state_dict(), 'mlp_arapx.bin')\n",
    "\n",
    "model_arapx = MLP(im_size).to(device)\n",
    "model_arapx.load_state_dict(torch.load('mlp_arapx.bin'))"
   ]
  },
  {
   "cell_type": "markdown",
   "metadata": {},
   "source": [
    "## Training with ALP"
   ]
  },
  {
   "cell_type": "code",
   "execution_count": 6,
   "metadata": {},
   "outputs": [
    {
     "name": "stderr",
     "output_type": "stream",
     "text": [
      "/home/victor/sandbox/sgmcmc4ara/models.py:20: UserWarning: Implicit dimension choice for log_softmax has been deprecated. Change the call to include dim=X as an argument.\n",
      "  return F.log_softmax(x)\n"
     ]
    },
    {
     "name": "stdout",
     "output_type": "stream",
     "text": [
      "Train Epoch: 1 [0/60000 (0%)]\tLoss: 2.468363\n",
      "Train Epoch: 1 [32000/60000 (53%)]\tLoss: 0.462306\n",
      "Train Epoch: 2 [0/60000 (0%)]\tLoss: 0.411466\n",
      "Train Epoch: 2 [32000/60000 (53%)]\tLoss: 0.509002\n",
      "Train Epoch: 3 [0/60000 (0%)]\tLoss: 0.379494\n",
      "Train Epoch: 3 [32000/60000 (53%)]\tLoss: 0.284056\n",
      "Train Epoch: 4 [0/60000 (0%)]\tLoss: 0.256590\n",
      "Train Epoch: 4 [32000/60000 (53%)]\tLoss: 0.509348\n",
      "Train Epoch: 5 [0/60000 (0%)]\tLoss: 0.234332\n",
      "Train Epoch: 5 [32000/60000 (53%)]\tLoss: 0.360451\n",
      "\n",
      "Test set: Average loss: 0.1593, Accuracy: 9616/10000 (96%)\n",
      "\n"
     ]
    }
   ],
   "source": [
    "model_alp = MLP(im_size).to(device)\n",
    "optimizer = optim.SGD(model_alp.parameters(), lr=lr,\n",
    "                      momentum=momentum)\n",
    "\n",
    "train = True\n",
    "if train:\n",
    "    training_losses = []\n",
    "    for epoch in range(1, epochs + 1):\n",
    "        train_alp(model_alp, device, train_loader, optimizer, epoch, training_losses)\n",
    "        #test(model, device, test_loader)\n",
    "test(model_alp, device, test_loader)"
   ]
  },
  {
   "cell_type": "code",
   "execution_count": 7,
   "metadata": {},
   "outputs": [
    {
     "data": {
      "text/plain": [
       "<All keys matched successfully>"
      ]
     },
     "execution_count": 7,
     "metadata": {},
     "output_type": "execute_result"
    }
   ],
   "source": [
    "torch.save(model_alp.state_dict(), 'mlp_alp.bin')\n",
    "\n",
    "model_alp = MLP(im_size).to(device)\n",
    "model_alp.load_state_dict(torch.load('mlp_alp.bin'))"
   ]
  },
  {
   "cell_type": "code",
   "execution_count": null,
   "metadata": {},
   "outputs": [],
   "source": []
  },
  {
   "cell_type": "code",
   "execution_count": null,
   "metadata": {},
   "outputs": [],
   "source": []
  },
  {
   "cell_type": "markdown",
   "metadata": {},
   "source": [
    "## Full atack & defense evaluation "
   ]
  },
  {
   "cell_type": "code",
   "execution_count": 25,
   "metadata": {
    "scrolled": true
   },
   "outputs": [
    {
     "name": "stdout",
     "output_type": "stream",
     "text": [
      "\n",
      "Test set: Average loss: 0.1095, Accuracy: 9684/10000 (97%)\n",
      "\n",
      "\n",
      "Test set: Average loss: 0.3644, Accuracy: 8815/10000 (88%)\n",
      "\n",
      "\n",
      "Test set: Average loss: 1.0435, Accuracy: 6526/10000 (65%)\n",
      "\n",
      "\n",
      "Test set: Average loss: 2.3629, Accuracy: 3393/10000 (34%)\n",
      "\n",
      "\n",
      "Test set: Average loss: 4.2271, Accuracy: 1422/10000 (14%)\n",
      "\n",
      "\n",
      "Test set: Average loss: 6.3695, Accuracy: 551/10000 (6%)\n",
      "\n",
      "\n",
      "Test set: Average loss: 8.5961, Accuracy: 207/10000 (2%)\n",
      "\n",
      "\n",
      "Test set: Average loss: 10.8209, Accuracy: 92/10000 (1%)\n",
      "\n",
      "\n",
      "Test set: Average loss: 13.0112, Accuracy: 41/10000 (0%)\n",
      "\n",
      "\n",
      "Test set: Average loss: 15.1600, Accuracy: 23/10000 (0%)\n",
      "\n",
      "\n",
      "Test set: Average loss: 17.2647, Accuracy: 15/10000 (0%)\n",
      "\n",
      "\n",
      "Test set: Average loss: 19.3372, Accuracy: 8/10000 (0%)\n",
      "\n",
      "\n",
      "Test set: Average loss: 21.3758, Accuracy: 4/10000 (0%)\n",
      "\n",
      "\n",
      "Test set: Average loss: 23.3882, Accuracy: 3/10000 (0%)\n",
      "\n",
      "\n",
      "Test set: Average loss: 0.1031, Accuracy: 9676/10000 (97%)\n",
      "\n",
      "\n",
      "Test set: Average loss: 0.2054, Accuracy: 9331/10000 (93%)\n",
      "\n",
      "\n",
      "Test set: Average loss: 0.3876, Accuracy: 8747/10000 (87%)\n",
      "\n",
      "\n",
      "Test set: Average loss: 0.6931, Accuracy: 7768/10000 (78%)\n",
      "\n",
      "\n",
      "Test set: Average loss: 1.1665, Accuracy: 6211/10000 (62%)\n",
      "\n",
      "\n",
      "Test set: Average loss: 1.8352, Accuracy: 4303/10000 (43%)\n",
      "\n",
      "\n",
      "Test set: Average loss: 2.6895, Accuracy: 2516/10000 (25%)\n",
      "\n",
      "\n",
      "Test set: Average loss: 3.6885, Accuracy: 1360/10000 (14%)\n",
      "\n",
      "\n",
      "Test set: Average loss: 4.7722, Accuracy: 689/10000 (7%)\n",
      "\n",
      "\n",
      "Test set: Average loss: 5.9054, Accuracy: 315/10000 (3%)\n",
      "\n",
      "\n",
      "Test set: Average loss: 7.0508, Accuracy: 160/10000 (2%)\n",
      "\n",
      "\n",
      "Test set: Average loss: 8.1940, Accuracy: 84/10000 (1%)\n",
      "\n",
      "\n",
      "Test set: Average loss: 9.3257, Accuracy: 48/10000 (0%)\n",
      "\n",
      "\n",
      "Test set: Average loss: 10.4419, Accuracy: 30/10000 (0%)\n",
      "\n",
      "\n",
      "Test set: Average loss: 0.1593, Accuracy: 9616/10000 (96%)\n",
      "\n",
      "\n",
      "Test set: Average loss: 0.2613, Accuracy: 9264/10000 (93%)\n",
      "\n",
      "\n",
      "Test set: Average loss: 0.4150, Accuracy: 8743/10000 (87%)\n",
      "\n",
      "\n",
      "Test set: Average loss: 0.6357, Accuracy: 7919/10000 (79%)\n",
      "\n",
      "\n",
      "Test set: Average loss: 0.9367, Accuracy: 6748/10000 (67%)\n",
      "\n",
      "\n",
      "Test set: Average loss: 1.3257, Accuracy: 5338/10000 (53%)\n",
      "\n",
      "\n",
      "Test set: Average loss: 1.8022, Accuracy: 3800/10000 (38%)\n",
      "\n",
      "\n",
      "Test set: Average loss: 2.3566, Accuracy: 2370/10000 (24%)\n",
      "\n",
      "\n",
      "Test set: Average loss: 2.9731, Accuracy: 1364/10000 (14%)\n",
      "\n",
      "\n",
      "Test set: Average loss: 3.6349, Accuracy: 689/10000 (7%)\n",
      "\n",
      "\n",
      "Test set: Average loss: 4.3223, Accuracy: 340/10000 (3%)\n",
      "\n",
      "\n",
      "Test set: Average loss: 5.0211, Accuracy: 160/10000 (2%)\n",
      "\n",
      "\n",
      "Test set: Average loss: 5.7214, Accuracy: 78/10000 (1%)\n",
      "\n",
      "\n",
      "Test set: Average loss: 6.4191, Accuracy: 32/10000 (0%)\n",
      "\n",
      "\n",
      "Test set: Average loss: 0.1561, Accuracy: 9568/10000 (96%)\n",
      "\n",
      "\n",
      "Test set: Average loss: 0.2572, Accuracy: 9211/10000 (92%)\n",
      "\n",
      "\n",
      "Test set: Average loss: 0.4102, Accuracy: 8635/10000 (86%)\n",
      "\n",
      "\n",
      "Test set: Average loss: 0.6310, Accuracy: 7833/10000 (78%)\n",
      "\n",
      "\n",
      "Test set: Average loss: 0.9342, Accuracy: 6711/10000 (67%)\n",
      "\n",
      "\n",
      "Test set: Average loss: 1.3289, Accuracy: 5343/10000 (53%)\n",
      "\n",
      "\n",
      "Test set: Average loss: 1.8172, Accuracy: 3866/10000 (39%)\n",
      "\n",
      "\n",
      "Test set: Average loss: 2.3889, Accuracy: 2474/10000 (25%)\n",
      "\n",
      "\n",
      "Test set: Average loss: 3.0284, Accuracy: 1499/10000 (15%)\n",
      "\n",
      "\n",
      "Test set: Average loss: 3.7171, Accuracy: 810/10000 (8%)\n",
      "\n",
      "\n",
      "Test set: Average loss: 4.4367, Accuracy: 432/10000 (4%)\n",
      "\n",
      "\n",
      "Test set: Average loss: 5.1736, Accuracy: 224/10000 (2%)\n",
      "\n",
      "\n",
      "Test set: Average loss: 5.9217, Accuracy: 113/10000 (1%)\n",
      "\n",
      "\n",
      "Test set: Average loss: 6.6752, Accuracy: 54/10000 (1%)\n",
      "\n",
      "\n",
      "Test set: Average loss: 0.1832, Accuracy: 9560/10000 (96%)\n",
      "\n",
      "\n",
      "Test set: Average loss: 0.2455, Accuracy: 9354/10000 (94%)\n",
      "\n",
      "\n",
      "Test set: Average loss: 0.3252, Accuracy: 9053/10000 (91%)\n",
      "\n",
      "\n",
      "Test set: Average loss: 0.4254, Accuracy: 8705/10000 (87%)\n",
      "\n",
      "\n",
      "Test set: Average loss: 0.5494, Accuracy: 8234/10000 (82%)\n",
      "\n",
      "\n",
      "Test set: Average loss: 0.7002, Accuracy: 7666/10000 (77%)\n",
      "\n",
      "\n",
      "Test set: Average loss: 0.8809, Accuracy: 6922/10000 (69%)\n",
      "\n",
      "\n",
      "Test set: Average loss: 1.0932, Accuracy: 6168/10000 (62%)\n",
      "\n",
      "\n",
      "Test set: Average loss: 1.3394, Accuracy: 5349/10000 (53%)\n",
      "\n",
      "\n",
      "Test set: Average loss: 1.6188, Accuracy: 4396/10000 (44%)\n",
      "\n",
      "\n",
      "Test set: Average loss: 1.9301, Accuracy: 3488/10000 (35%)\n",
      "\n",
      "\n",
      "Test set: Average loss: 2.2717, Accuracy: 2629/10000 (26%)\n",
      "\n",
      "\n",
      "Test set: Average loss: 2.6401, Accuracy: 1843/10000 (18%)\n",
      "\n",
      "\n",
      "Test set: Average loss: 3.0329, Accuracy: 1211/10000 (12%)\n",
      "\n",
      "\n",
      "Test set: Average loss: 0.2067, Accuracy: 9473/10000 (95%)\n",
      "\n",
      "\n",
      "Test set: Average loss: 0.2835, Accuracy: 9191/10000 (92%)\n",
      "\n",
      "\n",
      "Test set: Average loss: 0.3831, Accuracy: 8811/10000 (88%)\n",
      "\n",
      "\n",
      "Test set: Average loss: 0.5096, Accuracy: 8308/10000 (83%)\n",
      "\n",
      "\n",
      "Test set: Average loss: 0.6669, Accuracy: 7690/10000 (77%)\n",
      "\n",
      "\n",
      "Test set: Average loss: 0.8578, Accuracy: 6917/10000 (69%)\n",
      "\n",
      "\n",
      "Test set: Average loss: 1.0852, Accuracy: 6155/10000 (62%)\n",
      "\n",
      "\n",
      "Test set: Average loss: 1.3505, Accuracy: 5293/10000 (53%)\n",
      "\n",
      "\n",
      "Test set: Average loss: 1.6536, Accuracy: 4385/10000 (44%)\n",
      "\n",
      "\n",
      "Test set: Average loss: 1.9928, Accuracy: 3485/10000 (35%)\n",
      "\n",
      "\n",
      "Test set: Average loss: 2.3655, Accuracy: 2642/10000 (26%)\n",
      "\n",
      "\n",
      "Test set: Average loss: 2.7679, Accuracy: 1889/10000 (19%)\n",
      "\n",
      "\n",
      "Test set: Average loss: 3.1960, Accuracy: 1298/10000 (13%)\n",
      "\n",
      "\n",
      "Test set: Average loss: 3.6445, Accuracy: 826/10000 (8%)\n",
      "\n"
     ]
    }
   ],
   "source": [
    "strenghts = np.linspace(0., 0.15, 14)\n",
    "\n",
    "def evaluate_attack(model, strenghts):\n",
    "    accs = []\n",
    "\n",
    "    for s in strenghts:\n",
    "\n",
    "        test_loss = 0\n",
    "        correct = 0\n",
    "        model.train()\n",
    "\n",
    "        for data, target in test_loader:\n",
    "            data, target = data.to(device), target.to(device)\n",
    "            data.requires_grad_(True)\n",
    "            v = torch.zeros_like(data)\n",
    "            xv = (data, v)\n",
    "\n",
    "            def adv_loss(x, y = target):\n",
    "                return -F.nll_loss(model(x), y)\n",
    "\n",
    "            xx, mmsgf = fgsmm(adv_loss, xv, T = 5, lr = s, gamma = 0.)\n",
    "            output = model(xx[0])\n",
    "            test_loss += F.nll_loss(output, target, reduction='sum').item() # sum up batch loss\n",
    "            pred = output.argmax(dim=1, keepdim=True) # get the index of the max log-probability\n",
    "            correct += pred.eq(target.view_as(pred)).sum().item()\n",
    "\n",
    "        test_loss /= len(test_loader.dataset)\n",
    "\n",
    "        print('\\nTest set: Average loss: {:.4f}, Accuracy: {}/{} ({:.0f}%)\\n'.format(\n",
    "            test_loss, correct, len(test_loader.dataset),\n",
    "            100. * correct / len(test_loader.dataset)))\n",
    "\n",
    "        accs.append(correct / len(test_loader.dataset))\n",
    "    return accs\n",
    "\n",
    "\n",
    "accs = evaluate_attack(model, strenghts)\n",
    "accs_at = evaluate_attack(model_at, strenghts)\n",
    "accs_alp = evaluate_attack(model_alp, strenghts)\n",
    "accs_atpx = evaluate_attack(model_atpx, strenghts)\n",
    "accs_ara = evaluate_attack(model_ara, strenghts)\n",
    "accs_arapx = evaluate_attack(model_arapx, strenghts)"
   ]
  },
  {
   "cell_type": "code",
   "execution_count": 27,
   "metadata": {},
   "outputs": [
    {
     "data": {
      "image/png": "[encoded data removed]",
      "text/plain": [
       "<Figure size 432x288 with 1 Axes>"
      ]
     },
     "metadata": {
      "needs_background": "light"
     },
     "output_type": "display_data"
    }
   ],
   "source": [
    "from matplotlib import cm\n",
    "\n",
    "start = 0.0\n",
    "stop = .75\n",
    "number_of_lines = 4\n",
    "cm_subsection = np.linspace(start, stop, number_of_lines) \n",
    "\n",
    "colors = [ cm.inferno(x) for x in cm_subsection ]\n",
    "\n",
    "plt.plot(strenghts, accs, color=colors[0])\n",
    "plt.plot(strenghts, accs_at, color=colors[1])\n",
    "plt.plot(strenghts, accs_alp, color=colors[2])\n",
    "#plt.plot(strenghts, accs_atpx, color=colors[3])\n",
    "plt.plot(strenghts, accs_ara, color=colors[3])\n",
    "#plt.plot(strenghts, accs_arapx, color=colors[5])\n",
    "plt.grid(True)\n",
    "plt.ylim([0., 1.])\n",
    "#plt.ylim([0.7, 1.])\n",
    "plt.xlim([0., 0.15])\n",
    "#plt.legend(['NONE', 'AT', 'ALP', 'ATPX', 'ARA', 'ARAPX'])\n",
    "plt.legend(['NONE', 'AT', 'ALP', 'ARA'])\n",
    "plt.xlabel('Intensity of PGD attack ($\\ell_1$)')\n",
    "#plt.xlabel('Intensity of FGSM attack')\n",
    "plt.ylabel('Accuracy over attacked test set')\n",
    "\n",
    "#plt.savefig('img/comparison_mnist_fgsm.png', dpi=300)\n",
    "plt.savefig('img/comparison_mnist_pgdl1.png', dpi=300)"
   ]
  },
  {
   "cell_type": "markdown",
   "metadata": {},
   "source": [
    "## Energy comparisons"
   ]
  },
  {
   "cell_type": "code",
   "execution_count": 8,
   "metadata": {},
   "outputs": [
    {
     "name": "stdout",
     "output_type": "stream",
     "text": [
      "tensor(-10.7167, device='cuda:0', grad_fn=<DivBackward0>)\n",
      "tensor(-8.5127, device='cuda:0', grad_fn=<DivBackward0>)\n",
      "Energy gap:  tensor(2.2040, device='cuda:0', grad_fn=<AbsBackward>)\n",
      "tensor(-9.6051, device='cuda:0', grad_fn=<DivBackward0>)\n",
      "tensor(-7.8324, device='cuda:0', grad_fn=<DivBackward0>)\n",
      "Energy gap:  tensor(1.7727, device='cuda:0', grad_fn=<AbsBackward>)\n",
      "tensor(8.1070, device='cuda:0', grad_fn=<DivBackward0>)\n",
      "tensor(8.0701, device='cuda:0', grad_fn=<DivBackward0>)\n",
      "Energy gap:  tensor(0.0369, device='cuda:0', grad_fn=<AbsBackward>)\n",
      "tensor(-7.3334, device='cuda:0', grad_fn=<DivBackward0>)\n",
      "tensor(-6.5552, device='cuda:0', grad_fn=<DivBackward0>)\n",
      "Energy gap:  tensor(0.7782, device='cuda:0', grad_fn=<AbsBackward>)\n",
      "tensor(5.1082, device='cuda:0', grad_fn=<DivBackward0>)\n",
      "tensor(5.1786, device='cuda:0', grad_fn=<DivBackward0>)\n",
      "Energy gap:  tensor(0.0704, device='cuda:0', grad_fn=<AbsBackward>)\n"
     ]
    }
   ],
   "source": [
    "def compute_test_energy(lr_a, model):\n",
    "    test_loss = 0\n",
    "    correct = 0\n",
    "    e = 0.\n",
    "    model.train()\n",
    "\n",
    "    def energy(x):\n",
    "        return -torch.logsumexp(model.logits(x), dim=1)\n",
    "\n",
    "    for data, target in test_loader:\n",
    "        data, target = data.to(device), target.to(device)\n",
    "        data.requires_grad_(True)\n",
    "        v = torch.zeros_like(data)\n",
    "        xv = (data, v)\n",
    "\n",
    "        def adv_loss(x, y = target):\n",
    "            return -F.nll_loss(model(x), y)\n",
    "\n",
    "        xx, mmsgf = fgsmm(adv_loss, xv, T = 1, lr = lr_a, gamma = 0.)\n",
    "\n",
    "        e += energy(xx[0]).sum()\n",
    "\n",
    "    return e / len(test_loader.dataset)\n",
    "\n",
    "\n",
    "model = MLP(im_size).to(device)\n",
    "model.load_state_dict(torch.load('mlp.bin'))\n",
    "nat = compute_test_energy(0., model)\n",
    "att = compute_test_energy(0.15, model)\n",
    "print(nat)\n",
    "print(att)\n",
    "print('Energy gap: ', torch.abs(att - nat))\n",
    "\n",
    "model_at = MLP(im_size).to(device)\n",
    "model_at.load_state_dict(torch.load('mlp_at.bin'))\n",
    "nat = compute_test_energy(0., model_at)\n",
    "att = compute_test_energy(0.15, model_at)\n",
    "print(nat)\n",
    "print(att)\n",
    "print('Energy gap: ', torch.abs(att - nat))\n",
    "\n",
    "model_atpx = MLP(im_size).to(device)\n",
    "model_atpx.load_state_dict(torch.load('mlp_atpx.bin'))\n",
    "nat = compute_test_energy(0., model_atpx)\n",
    "att = compute_test_energy(0.15, model_atpx)\n",
    "print(nat)\n",
    "print(att)\n",
    "print('Energy gap: ', torch.abs(att - nat))\n",
    "\n",
    "\n",
    "model_ara = MLP(im_size).to(device)\n",
    "model_ara.load_state_dict(torch.load('mlp_ara.bin'))\n",
    "nat = compute_test_energy(0., model_ara)\n",
    "att = compute_test_energy(0.15, model_ara)\n",
    "print(nat)\n",
    "print(att)\n",
    "print('Energy gap: ', torch.abs(att - nat))\n",
    "\n",
    "\n",
    "model_arapx = MLP(im_size).to(device)\n",
    "model_arapx.load_state_dict(torch.load('mlp_arapx.bin'))\n",
    "nat = compute_test_energy(0., model_arapx)\n",
    "att = compute_test_energy(0.15, model_arapx)\n",
    "print(nat)\n",
    "print(att)\n",
    "print('Energy gap: ', torch.abs(att - nat))"
   ]
  },
  {
   "cell_type": "code",
   "execution_count": null,
   "metadata": {},
   "outputs": [],
   "source": []
  }
 ],
 "metadata": {
  "@webio": {
   "lastCommId": null,
   "lastKernelId": null
  },
  "kernelspec": {
   "display_name": "Python 3",
   "language": "python",
   "name": "python3"
  }
 },
 "nbformat": 4,
 "nbformat_minor": 2
}
